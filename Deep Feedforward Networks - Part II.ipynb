{
 "cells": [
  {
   "cell_type": "markdown",
   "id": "0255b68b",
   "metadata": {
    "slideshow": {
     "slide_type": "slide"
    }
   },
   "source": [
    "# Automatic Differentiation"
   ]
  },
  {
   "cell_type": "markdown",
   "id": "0a01bfd6",
   "metadata": {
    "slideshow": {
     "slide_type": "skip"
    }
   },
   "source": [
    "## Acknowledgements\n"
   ]
  },
  {
   "cell_type": "markdown",
   "id": "720eee95",
   "metadata": {
    "slideshow": {
     "slide_type": "slide"
    }
   },
   "source": [
    "## Gradients - Why Do They Matter"
   ]
  },
  {
   "cell_type": "markdown",
   "id": "4a0f97c5",
   "metadata": {
    "slideshow": {
     "slide_type": "subslide"
    }
   },
   "source": [
    "Suppose we had a linear regression problem:\n",
    "\n",
    "<table width=\"100%\">\n",
    "    <tr>\n",
    "        <td>\n",
    "\\begin{align*} \n",
    "y^{\\prime} &= ax+b \\\\\n",
    "l &= f\\left(y^{\\prime}, y\\right) \n",
    "\\end{align*}\n",
    "        </td>\n",
    "        <td>\n",
    "<img src=\"assets/linear_regr_comp_graph.svg\" alt=\"assets/linear_regr_comp_graph.svg\">\n",
    "        </td>\n",
    "    </tr>\n",
    "</table>"
   ]
  },
  {
   "cell_type": "markdown",
   "id": "3e128358",
   "metadata": {
    "slideshow": {
     "slide_type": "fragment"
    }
   },
   "source": [
    "Update rules for the two model parameters $a$ and $b$:\n",
    "\\begin{align*} \n",
    "a &\\leftarrow a - \\eta\\cdot\\nabla_al \\\\\n",
    "b &\\leftarrow b - \\eta\\cdot\\nabla_bl\n",
    "\\end{align*}"
   ]
  },
  {
   "cell_type": "markdown",
   "id": "e038f1bc",
   "metadata": {
    "slideshow": {
     "slide_type": "fragment"
    }
   },
   "source": [
    "Since we're dealing with scalars, let's think about partial derivatives instead:\n",
    "\\begin{align*} \n",
    "a &\\leftarrow a - \\eta\\cdot\\frac{\\partial{l}}{\\partial{a}} \\\\\n",
    "b &\\leftarrow b - \\eta\\cdot\\frac{\\partial{l}}{\\partial{b}}\n",
    "\\end{align*}"
   ]
  },
  {
   "cell_type": "markdown",
   "id": "6738e45b",
   "metadata": {
    "slideshow": {
     "slide_type": "slide"
    }
   },
   "source": [
    "## The Chain Rule"
   ]
  },
  {
   "cell_type": "markdown",
   "id": "a188f1cf",
   "metadata": {
    "slideshow": {
     "slide_type": "subslide"
    }
   },
   "source": [
    "How does $w$ change with some yet-to-be-given variable $t$. All the input variables that $w$ depends or are annotated as $u_i$.\n",
    "\n",
    "$$\n",
    "\\frac{\\partial{w}}{\\partial{t}} = \\sum_{i}{\\left( \\frac{\\partial{w}}{\\partial{u_i}} \\cdot \\frac{\\partial{u_i}}{\\partial{t}} \\right)}\n",
    "$$"
   ]
  },
  {
   "cell_type": "markdown",
   "id": "84c814fd",
   "metadata": {
    "slideshow": {
     "slide_type": "slide"
    }
   },
   "source": [
    "## Forward-Mode Automatic Differentiation"
   ]
  },
  {
   "cell_type": "markdown",
   "id": "038e9623",
   "metadata": {
    "slideshow": {
     "slide_type": "subslide"
    }
   },
   "source": [
    "Suppose we wanted to differentiate:\n",
    "$$\n",
    "z = x \\cdot y + sin(x)\n",
    "$$"
   ]
  },
  {
   "cell_type": "markdown",
   "id": "cfa6f5bd",
   "metadata": {
    "slideshow": {
     "slide_type": "fragment"
    }
   },
   "source": [
    "The equation above is a composition of primitive operations:\n",
    "<table width=\"100%\">\n",
    "    <tr>\n",
    "        <td>\n",
    "<img src=\"assets/example_comp_graph.svg\" alt=\"assets/example_comp_graph.svg\" style=\"margin: auto;\">\n",
    "        </td>\n",
    "        <td>\n",
    "\\begin{align*} \n",
    "x &= \\mathord{?} \\\\\n",
    "y &= \\mathord{?} \\\\\n",
    "a &= x \\cdot y \\\\\n",
    "b &= sin (x) \\\\\n",
    "z &= a + b\n",
    "\\end{align*} \n",
    "        </td>\n",
    "    </tr>\n",
    "</table>"
   ]
  },
  {
   "cell_type": "markdown",
   "id": "7bce52cb",
   "metadata": {
    "slideshow": {
     "slide_type": "subslide"
    }
   },
   "source": [
    "Applying the chain rule above to each of these:\n",
    "<table width=\"100%\">\n",
    "    <tr>\n",
    "        <td>\n",
    "<img width=\"100%\" src=\"assets/example_comp_graph.svg\" alt=\"assets/example_comp_graph.svg\" style=\"margin: auto;\">\n",
    "        </td>\n",
    "        <td>\n",
    "\\begin{align*} \n",
    "x &= \\mathord{?} \\\\\n",
    "y &= \\mathord{?} \\\\\n",
    "a &= x \\cdot y \\\\\n",
    "b &= sin (x) \\\\\n",
    "z &= a + b\n",
    "\\end{align*} \n",
    "        </td>\n",
    "        <td>\n",
    "\\begin{align*} \n",
    "\\frac{\\partial{x}}{\\partial{t}} &= \\mathord{?} \\\\\n",
    "\\frac{\\partial{y}}{\\partial{t}} &= \\mathord{?} \\\\\n",
    "\\frac{\\partial{a}}{\\partial{t}} &= y \\cdot \\frac{\\partial{x}}{\\partial{t}} + x \\cdot \\frac{\\partial{y}}{\\partial{t}} \\\\\n",
    "\\frac{\\partial{b}}{\\partial{t}} &= cos(x) \\cdot \\frac{\\partial{x}}{\\partial{t}} \\\\\n",
    "\\frac{\\partial{z}}{\\partial{t}} &= \\frac{\\partial{a}}{\\partial{t}} + \\frac{\\partial{b}}{\\partial{t}} \\\\\n",
    "\\end{align*}         </td>\n",
    "    </tr>\n",
    "</table>"
   ]
  },
  {
   "cell_type": "markdown",
   "id": "daaf4185",
   "metadata": {
    "slideshow": {
     "slide_type": "slide"
    }
   },
   "source": [
    "## Revisiting the Chain Rule"
   ]
  },
  {
   "cell_type": "markdown",
   "id": "af159f20",
   "metadata": {
    "slideshow": {
     "slide_type": "subslide"
    }
   },
   "source": [
    "<table width=\"100%\">\n",
    "    <tr>\n",
    "        <td>\n",
    "<p>\n",
    "How does $w$ change with some yet-to-be-given variable $t$. All the input variables that $w$ depends or are annotated as $u_i$.<br/><br/>\n",
    "</p>\n",
    "$$\n",
    "\\frac{\\partial{w}}{\\partial{t}} = \\sum_{i}{\\left( \\frac{\\partial{w}}{\\partial{u_i}} \\cdot \\frac{\\partial{u_i}}{\\partial{t}} \\right)}\n",
    "$$\n",
    "        </td>\n",
    "        <td>\n",
    "<p>\n",
    "How does $u$ change some yet-to-be-given variable $s$. All the output variables that depend on $u$ are annotated as $w_i$.<br/><br/>\n",
    "</p>\n",
    "$$\n",
    "\\frac{\\partial{s}}{\\partial{u}} = \\sum_{i}{\\left( \\frac{\\partial{w_i}}{\\partial{u}} \\cdot \\frac{\\partial{s}}{\\partial{w_i}} \\right)}\n",
    "$$  \n",
    "        </td>\n",
    "    </tr>\n",
    "</table>"
   ]
  },
  {
   "cell_type": "markdown",
   "id": "5fb6e017",
   "metadata": {
    "slideshow": {
     "slide_type": "fragment"
    }
   },
   "source": [
    "Before, we asked:\n",
    "> What input variables a given output depends on.\n",
    "\n",
    "Now, we ask:\n",
    "> What output variables a given input can affect."
   ]
  },
  {
   "cell_type": "markdown",
   "id": "f2d6f1a1",
   "metadata": {
    "slideshow": {
     "slide_type": "slide"
    }
   },
   "source": [
    "## Reverse-Mode Automatic Differentiation"
   ]
  },
  {
   "cell_type": "markdown",
   "id": "c29b922e",
   "metadata": {
    "slideshow": {
     "slide_type": "subslide"
    }
   },
   "source": [
    "<table width=\"100%\">\n",
    "    <tr>\n",
    "        <td>\n",
    "\\begin{align*} \n",
    "x &= \\mathord{?} \\\\\n",
    "y &= \\mathord{?} \\\\\n",
    "a &= x \\cdot y \\\\\n",
    "b &= sin (x) \\\\\n",
    "z &= a + b\n",
    "\\end{align*} \n",
    "        </td>\n",
    "        <td>\n",
    "\\begin{align*} \n",
    "\\frac{\\partial{s}}{\\partial{z}} &= \\mathord{?} \\\\\n",
    "\\frac{\\partial{s}}{\\partial{b}} &= \\frac{\\partial{s}}{\\partial{z}} \\\\\n",
    "\\frac{\\partial{s}}{\\partial{a}} &= \\frac{\\partial{s}}{\\partial{z}} \\\\\n",
    "\\frac{\\partial{s}}{\\partial{y}} &= x \\cdot \\frac{\\partial{s}}{\\partial{a}} \\\\\n",
    "\\frac{\\partial{s}}{\\partial{x}} &= y \\cdot \\frac{\\partial{s}}{\\partial{a}} + cos(x) \\cdot \\frac{\\partial{s}}{\\partial{b}} \\\\\n",
    "\\end{align*}         </td>\n",
    "    </tr>\n",
    "</table>"
   ]
  },
  {
   "cell_type": "markdown",
   "id": "e2f0ea33",
   "metadata": {
    "slideshow": {
     "slide_type": "subslide"
    }
   },
   "source": [
    "\n",
    "\n",
    "<table width=\"100%\">\n",
    "    <tr>\n",
    "        <td>\n",
    "$$\n",
    "\\frac{\\partial{s}}{\\partial{u}} = \\sum_{i}{\\left( \\frac{\\partial{w_i}}{\\partial{u}} \\cdot \\frac{\\partial{s}}{\\partial{w_i}} \\right)}\n",
    "$$ \n",
    "        </td>\n",
    "        <td>\n",
    "<img width=\"100%\" src=\"assets/example_comp_graph.svg\" alt=\"assets/example_comp_graph.svg\" style=\"margin: auto;\">\n",
    "        </td>\n",
    "        <td>\n",
    "\\begin{align*} \n",
    "\\frac{\\partial{s}}{\\partial{z}} &= \\mathord{?} \\\\\n",
    "\\frac{\\partial{s}}{\\partial{b}} &= \\frac{\\partial{s}}{\\partial{z}} \\\\\n",
    "\\frac{\\partial{s}}{\\partial{a}} &= \\frac{\\partial{s}}{\\partial{z}} \\\\\n",
    "\\frac{\\partial{s}}{\\partial{y}} &= x \\cdot \\frac{\\partial{s}}{\\partial{a}} \\\\\n",
    "\\frac{\\partial{s}}{\\partial{x}} &= y \\cdot \\frac{\\partial{s}}{\\partial{a}} + cos(x) \\cdot \\frac{\\partial{s}}{\\partial{b}} \\\\\n",
    "\\end{align*} \n",
    "        </td>\n",
    "    </tr>\n",
    "</table>"
   ]
  },
  {
   "cell_type": "markdown",
   "id": "c490c2d6",
   "metadata": {
    "slideshow": {
     "slide_type": "slide"
    }
   },
   "source": [
    "## Demo"
   ]
  },
  {
   "cell_type": "markdown",
   "id": "2e2f1d60",
   "metadata": {
    "slideshow": {
     "slide_type": "skip"
    }
   },
   "source": [
    "NOTE: The following slides are not shown in presentation mode - they define classes and functions that are used in the demos."
   ]
  },
  {
   "cell_type": "code",
   "execution_count": 1,
   "id": "373596e6",
   "metadata": {
    "slideshow": {
     "slide_type": "skip"
    }
   },
   "outputs": [],
   "source": [
    "import math\n",
    "\n",
    "import matplotlib.pyplot as plt\n",
    "import numpy as np"
   ]
  },
  {
   "cell_type": "code",
   "execution_count": 2,
   "id": "bc0ae679",
   "metadata": {
    "slideshow": {
     "slide_type": "skip"
    }
   },
   "outputs": [],
   "source": [
    "class Var:\n",
    "\n",
    "  def __init__(self, value):\n",
    "    self.value = value\n",
    "    self.children = []\n",
    "    self.grad_value = None\n",
    "\n",
    "  def _grad(self):\n",
    "    if self.grad_value is None:\n",
    "      self.grad_value = sum(weight * var._grad()\n",
    "                            for weight, var in self.children)\n",
    "    return self.grad_value\n",
    "\n",
    "  def _reset_grad(self):\n",
    "    self.grad_value = None\n",
    "    for _, var in self.children:\n",
    "      var._reset_grad()\n",
    "\n",
    "  def grad_wrt(self, other):\n",
    "    self.grad_value = 1\n",
    "    result = other._grad()\n",
    "    other._reset_grad()\n",
    "    self._reset_grad()\n",
    "    return result"
   ]
  },
  {
   "cell_type": "code",
   "execution_count": 3,
   "id": "e4ecadd2",
   "metadata": {
    "slideshow": {
     "slide_type": "skip"
    }
   },
   "outputs": [],
   "source": [
    "# Ops.\n",
    "def mul(lhs, rhs):\n",
    "  result = Var(lhs.value * rhs.value)\n",
    "  lhs.children.append((rhs.value, result))\n",
    "  rhs.children.append((lhs.value, result))\n",
    "  return result\n",
    "\n",
    "\n",
    "def add(lhs, rhs):\n",
    "  result = Var(lhs.value + rhs.value)\n",
    "  lhs.children.append((1, result))\n",
    "  rhs.children.append((1, result))\n",
    "  return result\n",
    "\n",
    "\n",
    "def sub(lhs, rhs):\n",
    "  result = Var(lhs.value - rhs.value)\n",
    "  lhs.children.append((1, result))\n",
    "  rhs.children.append((-1, result))\n",
    "  return result\n",
    "\n",
    "\n",
    "def cos(x):\n",
    "  result = Var(math.cos(x.value))\n",
    "  x.children.append((-math.sin(x.value), result))\n",
    "  return result\n",
    "\n",
    "\n",
    "def sin(x):\n",
    "  result = Var(math.sin(x.value))\n",
    "  x.children.append((math.cos(x.value), result))\n",
    "  return result\n",
    "\n",
    "\n",
    "def square(x):\n",
    "  result = Var(x.value**2)\n",
    "  x.children.append((2 * x.value, result))\n",
    "  return result"
   ]
  },
  {
   "cell_type": "code",
   "execution_count": 4,
   "id": "02d62dd1",
   "metadata": {
    "slideshow": {
     "slide_type": "skip"
    }
   },
   "outputs": [],
   "source": [
    "# Tests.\n",
    "a = Var(2)\n",
    "b = Var(4)\n",
    "c = mul(a, b)\n",
    "assert (a.grad_wrt(a) == 1)\n",
    "assert (a.grad_wrt(b) == 0)\n",
    "assert (a.grad_wrt(c) == 0)\n",
    "assert (b.grad_wrt(a) == 0)\n",
    "assert (b.grad_wrt(b) == 1)\n",
    "assert (b.grad_wrt(c) == 0)\n",
    "assert (c.grad_wrt(a) == 4)\n",
    "assert (c.grad_wrt(b) == 2)\n",
    "assert (c.grad_wrt(c) == 1)\n",
    "\n",
    "a = Var(2)\n",
    "b = Var(4)\n",
    "c = add(a, b)\n",
    "assert (a.grad_wrt(a) == 1)\n",
    "assert (a.grad_wrt(b) == 0)\n",
    "assert (a.grad_wrt(c) == 0)\n",
    "assert (b.grad_wrt(a) == 0)\n",
    "assert (b.grad_wrt(b) == 1)\n",
    "assert (b.grad_wrt(c) == 0)\n",
    "assert (c.grad_wrt(a) == 1)\n",
    "assert (c.grad_wrt(b) == 1)\n",
    "assert (c.grad_wrt(c) == 1)\n",
    "\n",
    "a = Var(2)\n",
    "b = Var(4)\n",
    "c = sub(a, b)\n",
    "assert (a.grad_wrt(a) == 1)\n",
    "assert (a.grad_wrt(b) == 0)\n",
    "assert (a.grad_wrt(c) == 0)\n",
    "assert (b.grad_wrt(a) == 0)\n",
    "assert (b.grad_wrt(b) == 1)\n",
    "assert (b.grad_wrt(c) == 0)\n",
    "assert (c.grad_wrt(a) == 1)\n",
    "assert (c.grad_wrt(b) == -1)\n",
    "assert (c.grad_wrt(c) == 1)\n",
    "\n",
    "a = Var(2)\n",
    "b = cos(a)\n",
    "assert (a.grad_wrt(a) == 1)\n",
    "assert (a.grad_wrt(b) == 0)\n",
    "assert (b.grad_wrt(a) == -math.sin(a.value))\n",
    "assert (b.grad_wrt(b) == 1)\n",
    "\n",
    "a = Var(2)\n",
    "b = sin(a)\n",
    "assert (a.grad_wrt(a) == 1)\n",
    "assert (a.grad_wrt(b) == 0)\n",
    "assert (b.grad_wrt(a) == math.cos(a.value))\n",
    "assert (b.grad_wrt(b) == 1)\n",
    "\n",
    "a = Var(2)\n",
    "b = square(a)\n",
    "assert (a.grad_wrt(a) == 1)\n",
    "assert (a.grad_wrt(b) == 0)\n",
    "assert (b.grad_wrt(a) == 2 * a.value)\n",
    "assert (b.grad_wrt(b) == 1)"
   ]
  },
  {
   "cell_type": "code",
   "execution_count": 5,
   "id": "cf9f8839",
   "metadata": {
    "slideshow": {
     "slide_type": "skip"
    }
   },
   "outputs": [],
   "source": [
    "def mse(pred, target):\n",
    "  result = square(sub(pred, target))\n",
    "  return result"
   ]
  },
  {
   "cell_type": "code",
   "execution_count": 6,
   "id": "c04732aa",
   "metadata": {
    "slideshow": {
     "slide_type": "skip"
    }
   },
   "outputs": [],
   "source": [
    "num_samples = 10\n",
    "\n",
    "\n",
    "def gen_data():\n",
    "  np.random.seed(42)\n",
    "\n",
    "  # Sample data points from a line with AWGN and shuffle them.\n",
    "  xs = np.linspace(0, 1, num_samples) + np.random.normal(0, 0.1, num_samples)\n",
    "  ys = np.linspace(0, 1, num_samples) + np.random.normal(0, 0.01, num_samples)\n",
    "  is_shuffled = np.random.shuffle(np.arange(num_samples))\n",
    "  xs = xs[is_shuffled]\n",
    "  ys = ys[is_shuffled]\n",
    "\n",
    "  return xs, ys\n",
    "\n",
    "\n",
    "def plot_data(xs, ys):\n",
    "  fig, ax = plt.subplots(figsize=(5, 5))\n",
    "  ax.scatter(xs, ys)\n",
    "  ax.set_xlabel('x')\n",
    "  ax.set_ylabel('y')"
   ]
  },
  {
   "cell_type": "code",
   "execution_count": 7,
   "id": "b687a60c",
   "metadata": {
    "slideshow": {
     "slide_type": "skip"
    }
   },
   "outputs": [],
   "source": [
    "def plot_train_stats(xs, ys, a, b, loss_history):\n",
    "  # Calculate model prediction.\n",
    "  xs_pred = [xs.min(), xs.max()]\n",
    "  ys_pred = [a.value * x + b.value for x in xs_pred]\n",
    "\n",
    "  # Plot loss vs. epochs and predictions.\n",
    "  fig, (ax0, ax1) = plt.subplots(1, 2, figsize=(10, 5))\n",
    "  ax0.plot(loss_history)\n",
    "  ax0.set_xlabel('epoch')\n",
    "  ax0.set_ylabel('loss')\n",
    "  ax1.scatter(xs, ys)\n",
    "  ax1.plot(xs_pred, ys_pred)\n",
    "  ax1.set_xlabel('x')\n",
    "  ax1.set_ylabel('y')"
   ]
  },
  {
   "cell_type": "markdown",
   "id": "5c293d8d",
   "metadata": {
    "slideshow": {
     "slide_type": "subslide"
    }
   },
   "source": [
    "### A Basic Implementation of Reverse-Mode Automatic Differentiation\n",
    "\n",
    "```python\n",
    "class Var:\n",
    "\n",
    "  def __init__(self, value):\n",
    "    self.value = value\n",
    "    self.children = []\n",
    "    self.grad_value = None\n",
    "```"
   ]
  },
  {
   "cell_type": "markdown",
   "id": "0f569ead",
   "metadata": {
    "slideshow": {
     "slide_type": "fragment"
    }
   },
   "source": [
    "```python\n",
    "  def _grad(self):\n",
    "    if self.grad_value is None:\n",
    "      self.grad_value = sum(weight * var._grad()\n",
    "                            for weight, var in self.children)\n",
    "    return self.grad_value\n",
    "```"
   ]
  },
  {
   "cell_type": "markdown",
   "id": "265f5ae7",
   "metadata": {
    "slideshow": {
     "slide_type": "fragment"
    }
   },
   "source": [
    "```python\n",
    "def mul(lhs, rhs):\n",
    "  result = Var(lhs.value * rhs.value)\n",
    "  lhs.children.append((rhs.value, result))\n",
    "  rhs.children.append((lhs.value, result))\n",
    "  return result\n",
    "```"
   ]
  },
  {
   "cell_type": "code",
   "execution_count": 8,
   "id": "b7d35bef",
   "metadata": {
    "slideshow": {
     "slide_type": "subslide"
    }
   },
   "outputs": [
    {
     "name": "stdout",
     "output_type": "stream",
     "text": [
      "x · y = 6.00\n",
      "∂z / ∂x = 3.00\n",
      "∂z / ∂y = 2.00\n"
     ]
    }
   ],
   "source": [
    "x = Var(2)\n",
    "y = Var(3)\n",
    "z = mul(x, y)\n",
    "# z = add(mul(x, y), sin(x))  # z = x · y + sin(x)\n",
    "\n",
    "print(f'x · y = {z.value:.2f}')\n",
    "print(f'∂z / ∂x = {z.grad_wrt(x):.2f}')\n",
    "print(f'∂z / ∂y = {z.grad_wrt(y):.2f}')"
   ]
  },
  {
   "cell_type": "markdown",
   "id": "2f47125f",
   "metadata": {
    "slideshow": {
     "slide_type": "slide"
    }
   },
   "source": [
    "### Linear Regression"
   ]
  },
  {
   "cell_type": "code",
   "execution_count": 9,
   "id": "c6ed7301",
   "metadata": {
    "slideshow": {
     "slide_type": "subslide"
    }
   },
   "outputs": [
    {
     "data": {
      "image/png": "[encoded data removed]",
      "text/plain": [
       "<Figure size 360x360 with 1 Axes>"
      ]
     },
     "metadata": {
      "needs_background": "light"
     },
     "output_type": "display_data"
    }
   ],
   "source": [
    "xs, ys = gen_data()\n",
    "plot_data(xs, ys)"
   ]
  },
  {
   "cell_type": "code",
   "execution_count": 10,
   "id": "d486028b",
   "metadata": {
    "slideshow": {
     "slide_type": "subslide"
    }
   },
   "outputs": [],
   "source": [
    "def init_model():\n",
    "  a = Var(np.random.normal(0, 1, 1)[0])\n",
    "  b = Var(np.random.normal(0, 1, 1)[0])\n",
    "  return a, b\n",
    "\n",
    "\n",
    "# Set hyperparameters.\n",
    "lr = 0.005\n",
    "n_epochs = 200\n",
    "\n",
    "# Buffer to track the loss for each epoch.\n",
    "loss_history = np.empty(n_epochs)"
   ]
  },
  {
   "cell_type": "code",
   "execution_count": 11,
   "id": "c7b237d3",
   "metadata": {
    "slideshow": {
     "slide_type": "subslide"
    }
   },
   "outputs": [
    {
     "data": {
      "image/png": "[encoded data removed]",
      "text/plain": [
       "<Figure size 720x360 with 2 Axes>"
      ]
     },
     "metadata": {
      "needs_background": "light"
     },
     "output_type": "display_data"
    }
   ],
   "source": [
    "# Initialise model.\n",
    "a, b = init_model()\n",
    "\n",
    "# Training loop.\n",
    "for i in range(n_epochs):\n",
    "  ga = 0\n",
    "  gb = 0\n",
    "  epoch_loss = 0\n",
    "\n",
    "  for x, y in zip(xs.T, ys.T):\n",
    "    x = Var(x[0])\n",
    "    y = Var(y[0])\n",
    "\n",
    "    y_prime = add(mul(a, x), b)\n",
    "    loss = mse(y_prime, y)\n",
    "\n",
    "    ga += loss.grad_wrt(a)\n",
    "    gb += loss.grad_wrt(b)\n",
    "    epoch_loss += loss.value\n",
    "\n",
    "  a = Var(a.value - lr * ga)\n",
    "  b = Var(b.value - lr * gb)\n",
    "  loss_history[i] = epoch_loss / num_samples\n",
    "\n",
    "plot_train_stats(xs, ys, a, b, loss_history)"
   ]
  },
  {
   "cell_type": "markdown",
   "id": "78de4fe4",
   "metadata": {
    "slideshow": {
     "slide_type": "slide"
    }
   },
   "source": [
    "## References\n",
    "[1]    Phil Ruffwind; [Reverse-mode automatic differentiation: a tutorial](https://rufflewind.com/2016-12-30/reverse-mode-automatic-differentiation)"
   ]
  }
 ],
 "metadata": {
  "celltoolbar": "Slideshow",
  "kernelspec": {
   "display_name": "Python 3 (ipykernel)",
   "language": "python",
   "name": "python3"
  },
  "language_info": {
   "codemirror_mode": {
    "name": "ipython",
    "version": 3
   },
   "file_extension": ".py",
   "mimetype": "text/x-python",
   "name": "python",
   "nbconvert_exporter": "python",
   "pygments_lexer": "ipython3",
   "version": "3.9.7"
  }
 },
 "nbformat": 4,
 "nbformat_minor": 5
}
